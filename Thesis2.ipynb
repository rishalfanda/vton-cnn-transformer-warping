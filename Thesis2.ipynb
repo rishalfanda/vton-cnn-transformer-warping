{
  "nbformat": 4,
  "nbformat_minor": 0,
  "metadata": {
    "colab": {
      "provenance": [],
      "gpuType": "T4",
      "authorship_tag": "ABX9TyP1y8NPk8aU5FKwby8kgNp7",
      "include_colab_link": true
    },
    "kernelspec": {
      "name": "python3",
      "display_name": "Python 3"
    },
    "language_info": {
      "name": "python"
    },
    "accelerator": "GPU"
  },
  "cells": [
    {
      "cell_type": "markdown",
      "metadata": {
        "id": "view-in-github",
        "colab_type": "text"
      },
      "source": [
        "<a href=\"https://colab.research.google.com/github/rishalfanda/vton-cnn-transformer-warping/blob/main/Thesis2.ipynb\" target=\"_parent\"><img src=\"https://colab.research.google.com/assets/colab-badge.svg\" alt=\"Open In Colab\"/></a>"
      ]
    },
    {
      "cell_type": "markdown",
      "source": [
        "#Mount Drive and Load Dataset"
      ],
      "metadata": {
        "id": "3IN2YFReH6ID"
      }
    },
    {
      "cell_type": "code",
      "source": [
        "import gc, torch\n",
        "gc.collect()\n",
        "torch.cuda.empty_cache()\n"
      ],
      "metadata": {
        "id": "IXtERsXwY7Yo"
      },
      "execution_count": 10,
      "outputs": []
    },
    {
      "cell_type": "code",
      "execution_count": 2,
      "metadata": {
        "colab": {
          "base_uri": "https://localhost:8080/"
        },
        "id": "lNO5kkBAogAW",
        "outputId": "8e3d79c2-e677-4a3b-8d36-3ac524ff6dbd"
      },
      "outputs": [
        {
          "output_type": "stream",
          "name": "stdout",
          "text": [
            "Drive already mounted at /content/drive; to attempt to forcibly remount, call drive.mount(\"/content/drive\", force_remount=True).\n",
            "Drive mounted. Create /content/configs/auto.yml by running the bootstrap in your local environment if needed.\n"
          ]
        }
      ],
      "source": [
        "# Colab bootstrap: mount Drive and write auto.yml\n",
        "from google.colab import drive\n",
        "drive.mount('/content/drive')\n",
        "print('Drive mounted. Create /content/configs/auto.yml by running the bootstrap in your local environment if needed.')"
      ]
    },
    {
      "cell_type": "code",
      "source": [
        "%%capture\n",
        "!unzip /content/drive/MyDrive/dataset/cloth.zip -d ./dataset-cloth\n",
        "!unzip /content/drive/MyDrive/dataset/cloth_train.zip -d ./dataset-cloth_train\n",
        "!unzip /content/drive/MyDrive/dataset/image.zip -d ./dataset-image\n",
        "!unzip /content/drive/MyDrive/dataset/image_train.zip -d ./dataset-image_train\n",
        "!unzip /content/drive/MyDrive/dataset/cloth-mask.zip -d ./dataset-cloth-mask\n",
        "\n",
        "!unzip /content/drive/MyDrive/dataset/image-parse-v3.zip -d ./dataset-image-parse-v3\n",
        "!unzip /content/drive/MyDrive/dataset/openpose_img.zip -d ./dataset-openpose_img\n",
        "!unzip /content/drive/MyDrive/dataset/openpose_img-test.zip -d ./dataset-openpose_img-test\n",
        "!unzip /content/drive/MyDrive/dataset/image-parse-v3-test.zip -d ./dataset-image-parse-v3-test\n",
        "!unzip /content/drive/MyDrive/dataset/cloth-mask-test.zip -d ./dataset-cloth-mask-test\n",
        "!unzip /content/drive/MyDrive/dataset/openpose_json.zip -d ./dataset-openpose_json\n",
        "!unzip /content/drive/MyDrive/dataset/openpose_json_train.zip -d ./dataset-openpose_json_train"
      ],
      "metadata": {
        "id": "rliYN2wxo-eU"
      },
      "execution_count": 2,
      "outputs": []
    },
    {
      "cell_type": "code",
      "source": [
        "!rm -rf /content/vton_dataset/openpose_json"
      ],
      "metadata": {
        "id": "yG3JUUKNATvy"
      },
      "execution_count": null,
      "outputs": []
    },
    {
      "cell_type": "code",
      "source": [
        "!mkdir vton_dataset\n",
        "!mkdir vton_dataset/cloth\n",
        "!mv /content/dataset-cloth_train/cloth vton_dataset/cloth/cloth_train\n",
        "!rm -rf /content/dataset-cloth_train\n",
        "!mv /content/dataset-cloth/cloth vton_dataset/cloth/cloth_test\n",
        "!rm -rf /content/dataset-cloth\n",
        "\n",
        "!mkdir vton_dataset/image\n",
        "!mv /content/dataset-image_train/image vton_dataset/image/image_train\n",
        "!rm -rf /content/dataset-image_train\n",
        "!mv /content/dataset-image/image vton_dataset/image/image_test\n",
        "!rm -rf /content/dataset-image\n",
        "\n",
        "!mkdir vton_dataset/cloth_mask\n",
        "!mv /content/dataset-cloth-mask/cloth-mask vton_dataset/cloth_mask/cloth_mask_train\n",
        "!rm -rf /content/dataset-cloth-mask\n",
        "!mv /content/dataset-cloth-mask-test/cloth-mask vton_dataset/cloth_mask/cloth_mask_test\n",
        "!rm -rf /content/dataset-cloth-mask-test\n",
        "\n",
        "!mkdir vton_dataset/image_parse\n",
        "!mv /content/dataset-image-parse-v3/image-parse-v3 vton_dataset/image_parse/image_parse_train\n",
        "!rm -rf /content/dataset-image-parse-v3\n",
        "!mv /content/dataset-image-parse-v3-test/image-parse-v3 vton_dataset/image_parse/image_parse_test\n",
        "!rm -rf /content/dataset-image-parse-v3-test\n",
        "\n",
        "!mkdir vton_dataset/openpose_img\n",
        "!mv /content/dataset-openpose_img/openpose_img vton_dataset/openpose_img/openpose_img_train\n",
        "!rm -rf /content/dataset-openpose_img\n",
        "!mv /content/dataset-openpose_img-test/openpose_img vton_dataset/openpose_img/openpose_img_test\n",
        "!rm -rf /content/dataset-openpose_img-test\n",
        "\n",
        "!mkdir vton_dataset/openpose_json\n",
        "!mv /content/dataset-openpose_json_train/openpose_json vton_dataset/openpose_json/openpose_json_train\n",
        "!rm -rf /content/dataset-openpose_json_train/\n",
        "!mv /content/dataset-openpose_json/openpose_json vton_dataset/openpose_json/openpose_json_test\n",
        "!rm -rf /content/dataset-openpose_json/"
      ],
      "metadata": {
        "id": "VyUNAU_JqIE8"
      },
      "execution_count": 3,
      "outputs": []
    },
    {
      "cell_type": "code",
      "source": [
        "# @title\n",
        "import os\n",
        "\n",
        "base = \"vton_dataset\"\n",
        "folders = [\n",
        "    \"cloth/cloth_train\", \"cloth/cloth_test\",\n",
        "    \"image/image_train\", \"image/image_test\",\n",
        "    \"cloth_mask/cloth_mask_train\", \"cloth_mask/cloth_mask_test\",\n",
        "    \"image_parse/image_parse_train\", \"image_parse/image_parse_test\",\n",
        "    \"openpose_img/openpose_img_train\", \"openpose_img/openpose_img_test\",\n",
        "    \"openpose_json/openpose_json_train\", \"openpose_json/openpose_json_test\"\n",
        "]\n",
        "\n",
        "for f in folders:\n",
        "    print(f, len(os.listdir(os.path.join(base, f))))"
      ],
      "metadata": {
        "colab": {
          "base_uri": "https://localhost:8080/"
        },
        "collapsed": true,
        "id": "05xMof-FqrsS",
        "outputId": "0bad7b80-6f04-45c1-beb9-a2c6389303aa"
      },
      "execution_count": 3,
      "outputs": [
        {
          "output_type": "stream",
          "name": "stdout",
          "text": [
            "cloth/cloth_train 11647\n",
            "cloth/cloth_test 2032\n",
            "image/image_train 11647\n",
            "image/image_test 2032\n",
            "cloth_mask/cloth_mask_train 11647\n",
            "cloth_mask/cloth_mask_test 2032\n",
            "image_parse/image_parse_train 11647\n",
            "image_parse/image_parse_test 2032\n",
            "openpose_img/openpose_img_train 11647\n",
            "openpose_img/openpose_img_test 2032\n",
            "openpose_json/openpose_json_train 11647\n",
            "openpose_json/openpose_json_test 2032\n"
          ]
        }
      ]
    },
    {
      "cell_type": "code",
      "source": [
        "# !git clone https://github.com/rishalfanda/vton-cnn-transformer-warping.git"
      ],
      "metadata": {
        "colab": {
          "base_uri": "https://localhost:8080/"
        },
        "id": "WCRhRBvGxbjm",
        "outputId": "be2ff7ba-76fa-4244-8409-551114b74e65"
      },
      "execution_count": null,
      "outputs": [
        {
          "output_type": "stream",
          "name": "stdout",
          "text": [
            "Cloning into 'vton-cnn-transformer-warping'...\n",
            "remote: Enumerating objects: 13, done.\u001b[K\n",
            "remote: Counting objects: 100% (13/13), done.\u001b[K\n",
            "remote: Compressing objects: 100% (11/11), done.\u001b[K\n",
            "remote: Total 13 (delta 0), reused 0 (delta 0), pack-reused 0 (from 0)\u001b[K\n",
            "Receiving objects: 100% (13/13), 21.01 KiB | 7.00 MiB/s, done.\n"
          ]
        }
      ]
    },
    {
      "cell_type": "markdown",
      "source": [
        "#Config and Preprocessing"
      ],
      "metadata": {
        "id": "RznB7DcQIIHP"
      }
    },
    {
      "cell_type": "code",
      "source": [
        "import sys\n",
        "sys.path.append(\"/content/vton_project\")\n",
        "\n",
        "from dataloader.vton_data_loader import create_dataloaders\n",
        "from configs.vton_config_default import config\n",
        "\n",
        "# Update the data_root in the config to point to the correct location\n",
        "config[\"dataset\"][\"data_root\"] = \"/content/vton_dataset\"\n",
        "\n",
        "train_loader, val_loader = create_dataloaders(config, batch_size_override=2)\n",
        "batch = next(iter(train_loader))\n",
        "print(\"Batch keys:\", batch.keys())\n",
        "print(\"person_img:\", batch['person_img'].shape)\n",
        "if 'parse' in batch: print(\"parse:\", batch['parse'].shape)\n",
        "if 'pose' in batch: print(\"pose:\", batch['pose'].shape)"
      ],
      "metadata": {
        "colab": {
          "base_uri": "https://localhost:8080/"
        },
        "id": "i_mq__91Nfby",
        "outputId": "e2f345d7-a9dd-494e-8627-b1d5424a4f33"
      },
      "execution_count": 4,
      "outputs": [
        {
          "output_type": "stream",
          "name": "stderr",
          "text": [
            "INFO:VITON-Dataloader:VITONDataset mode=train loaded 11647 samples from /content/vton_dataset\n",
            "INFO:VITON-Dataloader:VITONDataset mode=test loaded 2032 samples from /content/vton_dataset\n"
          ]
        },
        {
          "output_type": "stream",
          "name": "stdout",
          "text": [
            "Batch keys: dict_keys(['person_img', 'cloth_img', 'person_id', 'cloth_id', 'parse', 'pose', 'cloth_mask'])\n",
            "person_img: torch.Size([2, 3, 512, 384])\n",
            "parse: torch.Size([2, 512, 384])\n",
            "pose: torch.Size([2, 18, 512, 384])\n"
          ]
        }
      ]
    },
    {
      "cell_type": "markdown",
      "source": [
        "#Build Model (U-Net & TransUnet)"
      ],
      "metadata": {
        "id": "_8N38y3tIORz"
      }
    },
    {
      "cell_type": "code",
      "source": [
        "!head -n 50 /content/vton_project/models/vton_unet.py\n"
      ],
      "metadata": {
        "colab": {
          "base_uri": "https://localhost:8080/"
        },
        "collapsed": true,
        "id": "vY4X97nVVM5M",
        "outputId": "4412e9ef-c8e6-489e-b190-ba8d21f1e121"
      },
      "execution_count": 41,
      "outputs": [
        {
          "output_type": "stream",
          "name": "stdout",
          "text": [
            "import torch\r\n",
            "import torch.nn as nn\r\n",
            "import torch.nn.functional as F\r\n",
            "\r\n",
            "class DoubleConv(nn.Module):\r\n",
            "    def __init__(self, in_ch, out_ch):\r\n",
            "        super().__init__()\r\n",
            "        self.conv = nn.Sequential(\r\n",
            "            nn.Conv2d(in_ch, out_ch, 3, padding=1),\r\n",
            "            nn.BatchNorm2d(out_ch),\r\n",
            "            nn.ReLU(inplace=True),\r\n",
            "            nn.Conv2d(out_ch, out_ch, 3, padding=1),\r\n",
            "            nn.BatchNorm2d(out_ch),\r\n",
            "            nn.ReLU(inplace=True),\r\n",
            "        )\r\n",
            "    def forward(self, x):\r\n",
            "        return self.conv(x)\r\n",
            "\r\n",
            "class Down(nn.Module):\r\n",
            "    def __init__(self, in_ch, out_ch):\r\n",
            "        super().__init__()\r\n",
            "        self.net = nn.Sequential(\r\n",
            "            nn.MaxPool2d(2),\r\n",
            "            DoubleConv(in_ch, out_ch)\r\n",
            "        )\r\n",
            "    def forward(self, x):\r\n",
            "        return self.net(x)\r\n",
            "\r\n",
            "class Up(nn.Module):\r\n",
            "    def __init__(self, in_ch, out_ch):\r\n",
            "        super().__init__()\r\n",
            "        self.up = nn.ConvTranspose2d(in_ch, out_ch, 2, stride=2)\r\n",
            "        self.conv = DoubleConv(in_ch, out_ch)\r\n",
            "    def forward(self, x1, x2):\r\n",
            "        x1 = self.up(x1)\r\n",
            "        diffY = x2.size()[2] - x1.size()[2]\r\n",
            "        diffX = x2.size()[3] - x1.size()[3]\r\n",
            "        x1 = F.pad(x1, [diffX // 2, diffX - diffX // 2,\r\n",
            "                        diffY // 2, diffY - diffY // 2])\r\n",
            "        x = torch.cat([x2, x1], dim=1)\r\n",
            "        return self.conv(x)\r\n",
            "\r\n",
            "class OutConv(nn.Module):\r\n",
            "    def __init__(self, in_ch, out_ch):\r\n",
            "        super().__init__()\r\n",
            "        self.conv = nn.Conv2d(in_ch, out_ch, 1)\r\n",
            "    def forward(self, x):\r\n",
            "        return self.conv(x)\r\n",
            "\r\n",
            "class UNet(nn.Module):\r\n"
          ]
        }
      ]
    },
    {
      "cell_type": "code",
      "source": [
        "import sys, torch\n",
        "sys.path.append(\"/content/vton_project\")\n",
        "\n",
        "from dataloader.vton_data_loader import create_dataloaders\n",
        "from configs.vton_config_default import config\n",
        "from utils.input_builder import build_input\n",
        "import importlib\n",
        "\n",
        "import models.vton_unet\n",
        "importlib.reload(models.vton_unet)\n",
        "\n",
        "from models.vton_unet import UNet\n",
        "\n",
        "\n",
        "# Load data\n",
        "train_loader, test_loader = create_dataloaders(config)\n",
        "\n",
        "batch = next(iter(train_loader))\n",
        "x = build_input(batch, use_cloth=False, use_cloth_mask=False)  # (B,22,H,W)\n",
        "print(\"Input shape:\", x.shape)\n",
        "\n",
        "# Model\n",
        "model = UNet(in_channels=x.shape[1], num_classes=20)\n",
        "out = model(x)\n",
        "print(\"Output shape:\", out.shape)\n"
      ],
      "metadata": {
        "colab": {
          "base_uri": "https://localhost:8080/"
        },
        "id": "7liztna3Lks2",
        "outputId": "6ad95e2c-7a90-4167-d844-c4f939882ff9"
      },
      "execution_count": 5,
      "outputs": [
        {
          "output_type": "stream",
          "name": "stderr",
          "text": [
            "INFO:VITON-Dataloader:VITONDataset mode=train loaded 11647 samples from /content/vton_dataset\n",
            "INFO:VITON-Dataloader:VITONDataset mode=test loaded 2032 samples from /content/vton_dataset\n"
          ]
        },
        {
          "output_type": "stream",
          "name": "stdout",
          "text": [
            "Input shape: torch.Size([2, 22, 512, 384])\n",
            "Output shape: torch.Size([2, 20, 512, 384])\n"
          ]
        }
      ]
    },
    {
      "cell_type": "code",
      "source": [
        "import sys, torch\n",
        "sys.path.append(\"/content/vton_project\")\n",
        "\n",
        "import models.vton_transunet\n",
        "importlib.reload(models.vton_transunet)\n",
        "\n",
        "from models.vton_transunet import TransUNetLight\n",
        "\n",
        "\n",
        "model = TransUNetLight(in_channels=22, num_classes=20)\n",
        "x = torch.randn(2, 22, 256, 192)\n",
        "y = model(x)\n",
        "print(\"Output shape:\", y.shape)\n",
        "\n"
      ],
      "metadata": {
        "colab": {
          "base_uri": "https://localhost:8080/"
        },
        "id": "EOrFc-f0WXzo",
        "outputId": "eac61e1a-b43d-4daf-d7da-ba53f443dbd4"
      },
      "execution_count": 8,
      "outputs": [
        {
          "output_type": "stream",
          "name": "stdout",
          "text": [
            "Output shape: torch.Size([2, 20, 256, 192])\n"
          ]
        }
      ]
    },
    {
      "cell_type": "markdown",
      "source": [
        "#Training"
      ],
      "metadata": {
        "id": "9KwrWg_PiBLf"
      }
    },
    {
      "cell_type": "code",
      "source": [
        "!python /content/vton_project/training/train_vton.py\n"
      ],
      "metadata": {
        "colab": {
          "base_uri": "https://localhost:8080/"
        },
        "id": "MmVASmN4iA2J",
        "outputId": "5449b3ee-8c2c-4c65-a347-b5b985d1fa32"
      },
      "execution_count": 17,
      "outputs": [
        {
          "output_type": "stream",
          "name": "stdout",
          "text": [
            "Device: cuda\n",
            "/content/vton_project/training/train_vton.py:87: FutureWarning: `torch.cuda.amp.GradScaler(args...)` is deprecated. Please use `torch.amp.GradScaler('cuda', args...)` instead.\n",
            "  scaler = GradScaler()\n",
            "/content/vton_project/training/train_vton.py:29: FutureWarning: `torch.cuda.amp.autocast(args...)` is deprecated. Please use `torch.amp.autocast('cuda', args...)` instead.\n",
            "  with autocast():\n",
            "/pytorch/aten/src/ATen/native/cuda/ScatterGatherKernel.cu:409: operator(): block: [70,0,0], thread: [0,0,0] Assertion `idx_dim >= 0 && idx_dim < index_size && \"index out of bounds\"` failed.\n",
            "/pytorch/aten/src/ATen/native/cuda/ScatterGatherKernel.cu:409: operator(): block: [70,0,0], thread: [1,0,0] Assertion `idx_dim >= 0 && idx_dim < index_size && \"index out of bounds\"` failed.\n",
            "/pytorch/aten/src/ATen/native/cuda/ScatterGatherKernel.cu:409: operator(): block: [70,0,0], thread: [2,0,0] Assertion `idx_dim >= 0 && idx_dim < index_size && \"index out of bounds\"` failed.\n",
            "/pytorch/aten/src/ATen/native/cuda/ScatterGatherKernel.cu:409: operator(): block: [70,0,0], thread: [3,0,0] Assertion `idx_dim >= 0 && idx_dim < index_size && \"index out of bounds\"` failed.\n",
            "/pytorch/aten/src/ATen/native/cuda/ScatterGatherKernel.cu:409: operator(): block: [70,0,0], thread: [4,0,0] Assertion `idx_dim >= 0 && idx_dim < index_size && \"index out of bounds\"` failed.\n",
            "/pytorch/aten/src/ATen/native/cuda/ScatterGatherKernel.cu:409: operator(): block: [70,0,0], thread: [5,0,0] Assertion `idx_dim >= 0 && idx_dim < index_size && \"index out of bounds\"` failed.\n",
            "/pytorch/aten/src/ATen/native/cuda/ScatterGatherKernel.cu:409: operator(): block: [70,0,0], thread: [6,0,0] Assertion `idx_dim >= 0 && idx_dim < index_size && \"index out of bounds\"` failed.\n",
            "/pytorch/aten/src/ATen/native/cuda/ScatterGatherKernel.cu:409: operator(): block: [70,0,0], thread: [7,0,0] Assertion `idx_dim >= 0 && idx_dim < index_size && \"index out of bounds\"` failed.\n",
            "/pytorch/aten/src/ATen/native/cuda/ScatterGatherKernel.cu:409: operator(): block: [70,0,0], thread: [8,0,0] Assertion `idx_dim >= 0 && idx_dim < index_size && \"index out of bounds\"` failed.\n",
            "/pytorch/aten/src/ATen/native/cuda/ScatterGatherKernel.cu:409: operator(): block: [70,0,0], thread: [9,0,0] Assertion `idx_dim >= 0 && idx_dim < index_size && \"index out of bounds\"` failed.\n",
            "/pytorch/aten/src/ATen/native/cuda/ScatterGatherKernel.cu:409: operator(): block: [70,0,0], thread: [84,0,0] Assertion `idx_dim >= 0 && idx_dim < index_size && \"index out of bounds\"` failed.\n",
            "/pytorch/aten/src/ATen/native/cuda/ScatterGatherKernel.cu:409: operator(): block: [70,0,0], thread: [85,0,0] Assertion `idx_dim >= 0 && idx_dim < index_size && \"index out of bounds\"` failed.\n",
            "/pytorch/aten/src/ATen/native/cuda/ScatterGatherKernel.cu:409: operator(): block: [70,0,0], thread: [86,0,0] Assertion `idx_dim >= 0 && idx_dim < index_size && \"index out of bounds\"` failed.\n",
            "/pytorch/aten/src/ATen/native/cuda/ScatterGatherKernel.cu:409: operator(): block: [70,0,0], thread: [87,0,0] Assertion `idx_dim >= 0 && idx_dim < index_size && \"index out of bounds\"` failed.\n",
            "/pytorch/aten/src/ATen/native/cuda/ScatterGatherKernel.cu:409: operator(): block: [70,0,0], thread: [88,0,0] Assertion `idx_dim >= 0 && idx_dim < index_size && \"index out of bounds\"` failed.\n",
            "/pytorch/aten/src/ATen/native/cuda/ScatterGatherKernel.cu:409: operator(): block: [70,0,0], thread: [89,0,0] Assertion `idx_dim >= 0 && idx_dim < index_size && \"index out of bounds\"` failed.\n",
            "/pytorch/aten/src/ATen/native/cuda/ScatterGatherKernel.cu:409: operator(): block: [70,0,0], thread: [90,0,0] Assertion `idx_dim >= 0 && idx_dim < index_size && \"index out of bounds\"` failed.\n",
            "/pytorch/aten/src/ATen/native/cuda/ScatterGatherKernel.cu:409: operator(): block: [70,0,0], thread: [91,0,0] Assertion `idx_dim >= 0 && idx_dim < index_size && \"index out of bounds\"` failed.\n",
            "/pytorch/aten/src/ATen/native/cuda/ScatterGatherKernel.cu:409: operator(): block: [70,0,0], thread: [92,0,0] Assertion `idx_dim >= 0 && idx_dim < index_size && \"index out of bounds\"` failed.\n",
            "/pytorch/aten/src/ATen/native/cuda/ScatterGatherKernel.cu:409: operator(): block: [70,0,0], thread: [93,0,0] Assertion `idx_dim >= 0 && idx_dim < index_size && \"index out of bounds\"` failed.\n",
            "/pytorch/aten/src/ATen/native/cuda/ScatterGatherKernel.cu:409: operator(): block: [70,0,0], thread: [94,0,0] Assertion `idx_dim >= 0 && idx_dim < index_size && \"index out of bounds\"` failed.\n",
            "/pytorch/aten/src/ATen/native/cuda/ScatterGatherKernel.cu:409: operator(): block: [70,0,0], thread: [95,0,0] Assertion `idx_dim >= 0 && idx_dim < index_size && \"index out of bounds\"` failed.\n",
            "/pytorch/aten/src/ATen/native/cuda/ScatterGatherKernel.cu:409: operator(): block: [70,0,0], thread: [32,0,0] Assertion `idx_dim >= 0 && idx_dim < index_size && \"index out of bounds\"` failed.\n",
            "/pytorch/aten/src/ATen/native/cuda/ScatterGatherKernel.cu:409: operator(): block: [70,0,0], thread: [33,0,0] Assertion `idx_dim >= 0 && idx_dim < index_size && \"index out of bounds\"` failed.\n",
            "/pytorch/aten/src/ATen/native/cuda/ScatterGatherKernel.cu:409: operator(): block: [70,0,0], thread: [34,0,0] Assertion `idx_dim >= 0 && idx_dim < index_size && \"index out of bounds\"` failed.\n",
            "/pytorch/aten/src/ATen/native/cuda/ScatterGatherKernel.cu:409: operator(): block: [70,0,0], thread: [35,0,0] Assertion `idx_dim >= 0 && idx_dim < index_size && \"index out of bounds\"` failed.\n",
            "/pytorch/aten/src/ATen/native/cuda/ScatterGatherKernel.cu:409: operator(): block: [70,0,0], thread: [36,0,0] Assertion `idx_dim >= 0 && idx_dim < index_size && \"index out of bounds\"` failed.\n",
            "/pytorch/aten/src/ATen/native/cuda/ScatterGatherKernel.cu:409: operator(): block: [70,0,0], thread: [37,0,0] Assertion `idx_dim >= 0 && idx_dim < index_size && \"index out of bounds\"` failed.\n",
            "/pytorch/aten/src/ATen/native/cuda/ScatterGatherKernel.cu:409: operator(): block: [70,0,0], thread: [38,0,0] Assertion `idx_dim >= 0 && idx_dim < index_size && \"index out of bounds\"` failed.\n",
            "/pytorch/aten/src/ATen/native/cuda/ScatterGatherKernel.cu:409: operator(): block: [70,0,0], thread: [39,0,0] Assertion `idx_dim >= 0 && idx_dim < index_size && \"index out of bounds\"` failed.\n",
            "/pytorch/aten/src/ATen/native/cuda/ScatterGatherKernel.cu:409: operator(): block: [70,0,0], thread: [40,0,0] Assertion `idx_dim >= 0 && idx_dim < index_size && \"index out of bounds\"` failed.\n",
            "/pytorch/aten/src/ATen/native/cuda/ScatterGatherKernel.cu:409: operator(): block: [70,0,0], thread: [41,0,0] Assertion `idx_dim >= 0 && idx_dim < index_size && \"index out of bounds\"` failed.\n",
            "/pytorch/aten/src/ATen/native/cuda/ScatterGatherKernel.cu:409: operator(): block: [70,0,0], thread: [42,0,0] Assertion `idx_dim >= 0 && idx_dim < index_size && \"index out of bounds\"` failed.\n",
            "/pytorch/aten/src/ATen/native/cuda/ScatterGatherKernel.cu:409: operator(): block: [70,0,0], thread: [43,0,0] Assertion `idx_dim >= 0 && idx_dim < index_size && \"index out of bounds\"` failed.\n",
            "/pytorch/aten/src/ATen/native/cuda/ScatterGatherKernel.cu:409: operator(): block: [70,0,0], thread: [44,0,0] Assertion `idx_dim >= 0 && idx_dim < index_size && \"index out of bounds\"` failed.\n",
            "/pytorch/aten/src/ATen/native/cuda/ScatterGatherKernel.cu:409: operator(): block: [70,0,0], thread: [45,0,0] Assertion `idx_dim >= 0 && idx_dim < index_size && \"index out of bounds\"` failed.\n",
            "/pytorch/aten/src/ATen/native/cuda/ScatterGatherKernel.cu:409: operator(): block: [70,0,0], thread: [46,0,0] Assertion `idx_dim >= 0 && idx_dim < index_size && \"index out of bounds\"` failed.\n",
            "/pytorch/aten/src/ATen/native/cuda/ScatterGatherKernel.cu:409: operator(): block: [70,0,0], thread: [47,0,0] Assertion `idx_dim >= 0 && idx_dim < index_size && \"index out of bounds\"` failed.\n",
            "/pytorch/aten/src/ATen/native/cuda/ScatterGatherKernel.cu:409: operator(): block: [70,0,0], thread: [48,0,0] Assertion `idx_dim >= 0 && idx_dim < index_size && \"index out of bounds\"` failed.\n",
            "/pytorch/aten/src/ATen/native/cuda/ScatterGatherKernel.cu:409: operator(): block: [70,0,0], thread: [49,0,0] Assertion `idx_dim >= 0 && idx_dim < index_size && \"index out of bounds\"` failed.\n",
            "/pytorch/aten/src/ATen/native/cuda/ScatterGatherKernel.cu:409: operator(): block: [70,0,0], thread: [50,0,0] Assertion `idx_dim >= 0 && idx_dim < index_size && \"index out of bounds\"` failed.\n",
            "/pytorch/aten/src/ATen/native/cuda/ScatterGatherKernel.cu:409: operator(): block: [70,0,0], thread: [51,0,0] Assertion `idx_dim >= 0 && idx_dim < index_size && \"index out of bounds\"` failed.\n",
            "/pytorch/aten/src/ATen/native/cuda/ScatterGatherKernel.cu:409: operator(): block: [70,0,0], thread: [52,0,0] Assertion `idx_dim >= 0 && idx_dim < index_size && \"index out of bounds\"` failed.\n",
            "/pytorch/aten/src/ATen/native/cuda/ScatterGatherKernel.cu:409: operator(): block: [70,0,0], thread: [53,0,0] Assertion `idx_dim >= 0 && idx_dim < index_size && \"index out of bounds\"` failed.\n",
            "/pytorch/aten/src/ATen/native/cuda/ScatterGatherKernel.cu:409: operator(): block: [70,0,0], thread: [54,0,0] Assertion `idx_dim >= 0 && idx_dim < index_size && \"index out of bounds\"` failed.\n",
            "/pytorch/aten/src/ATen/native/cuda/ScatterGatherKernel.cu:409: operator(): block: [70,0,0], thread: [55,0,0] Assertion `idx_dim >= 0 && idx_dim < index_size && \"index out of bounds\"` failed.\n",
            "/pytorch/aten/src/ATen/native/cuda/ScatterGatherKernel.cu:409: operator(): block: [70,0,0], thread: [56,0,0] Assertion `idx_dim >= 0 && idx_dim < index_size && \"index out of bounds\"` failed.\n",
            "/pytorch/aten/src/ATen/native/cuda/ScatterGatherKernel.cu:409: operator(): block: [70,0,0], thread: [57,0,0] Assertion `idx_dim >= 0 && idx_dim < index_size && \"index out of bounds\"` failed.\n",
            "/pytorch/aten/src/ATen/native/cuda/ScatterGatherKernel.cu:409: operator(): block: [70,0,0], thread: [58,0,0] Assertion `idx_dim >= 0 && idx_dim < index_size && \"index out of bounds\"` failed.\n",
            "/pytorch/aten/src/ATen/native/cuda/ScatterGatherKernel.cu:409: operator(): block: [70,0,0], thread: [59,0,0] Assertion `idx_dim >= 0 && idx_dim < index_size && \"index out of bounds\"` failed.\n",
            "/pytorch/aten/src/ATen/native/cuda/ScatterGatherKernel.cu:409: operator(): block: [70,0,0], thread: [60,0,0] Assertion `idx_dim >= 0 && idx_dim < index_size && \"index out of bounds\"` failed.\n",
            "/pytorch/aten/src/ATen/native/cuda/ScatterGatherKernel.cu:409: operator(): block: [70,0,0], thread: [61,0,0] Assertion `idx_dim >= 0 && idx_dim < index_size && \"index out of bounds\"` failed.\n",
            "/pytorch/aten/src/ATen/native/cuda/ScatterGatherKernel.cu:409: operator(): block: [70,0,0], thread: [62,0,0] Assertion `idx_dim >= 0 && idx_dim < index_size && \"index out of bounds\"` failed.\n",
            "/pytorch/aten/src/ATen/native/cuda/ScatterGatherKernel.cu:409: operator(): block: [70,0,0], thread: [63,0,0] Assertion `idx_dim >= 0 && idx_dim < index_size && \"index out of bounds\"` failed.\n",
            "/pytorch/aten/src/ATen/native/cuda/ScatterGatherKernel.cu:409: operator(): block: [46,0,0], thread: [0,0,0] Assertion `idx_dim >= 0 && idx_dim < index_size && \"index out of bounds\"` failed.\n",
            "/pytorch/aten/src/ATen/native/cuda/ScatterGatherKernel.cu:409: operator(): block: [46,0,0], thread: [1,0,0] Assertion `idx_dim >= 0 && idx_dim < index_size && \"index out of bounds\"` failed.\n",
            "/pytorch/aten/src/ATen/native/cuda/ScatterGatherKernel.cu:409: operator(): block: [46,0,0], thread: [2,0,0] Assertion `idx_dim >= 0 && idx_dim < index_size && \"index out of bounds\"` failed.\n",
            "/pytorch/aten/src/ATen/native/cuda/ScatterGatherKernel.cu:409: operator(): block: [19,0,0], thread: [96,0,0] Assertion `idx_dim >= 0 && idx_dim < index_size && \"index out of bounds\"` failed.\n",
            "/pytorch/aten/src/ATen/native/cuda/ScatterGatherKernel.cu:409: operator(): block: [19,0,0], thread: [97,0,0] Assertion `idx_dim >= 0 && idx_dim < index_size && \"index out of bounds\"` failed.\n",
            "/pytorch/aten/src/ATen/native/cuda/ScatterGatherKernel.cu:409: operator(): block: [19,0,0], thread: [98,0,0] Assertion `idx_dim >= 0 && idx_dim < index_size && \"index out of bounds\"` failed.\n",
            "/pytorch/aten/src/ATen/native/cuda/ScatterGatherKernel.cu:409: operator(): block: [19,0,0], thread: [99,0,0] Assertion `idx_dim >= 0 && idx_dim < index_size && \"index out of bounds\"` failed.\n",
            "/pytorch/aten/src/ATen/native/cuda/ScatterGatherKernel.cu:409: operator(): block: [19,0,0], thread: [100,0,0] Assertion `idx_dim >= 0 && idx_dim < index_size && \"index out of bounds\"` failed.\n",
            "/pytorch/aten/src/ATen/native/cuda/ScatterGatherKernel.cu:409: operator(): block: [19,0,0], thread: [101,0,0] Assertion `idx_dim >= 0 && idx_dim < index_size && \"index out of bounds\"` failed.\n",
            "/pytorch/aten/src/ATen/native/cuda/ScatterGatherKernel.cu:409: operator(): block: [19,0,0], thread: [102,0,0] Assertion `idx_dim >= 0 && idx_dim < index_size && \"index out of bounds\"` failed.\n",
            "/pytorch/aten/src/ATen/native/cuda/ScatterGatherKernel.cu:409: operator(): block: [19,0,0], thread: [103,0,0] Assertion `idx_dim >= 0 && idx_dim < index_size && \"index out of bounds\"` failed.\n",
            "/pytorch/aten/src/ATen/native/cuda/ScatterGatherKernel.cu:409: operator(): block: [19,0,0], thread: [104,0,0] Assertion `idx_dim >= 0 && idx_dim < index_size && \"index out of bounds\"` failed.\n",
            "/pytorch/aten/src/ATen/native/cuda/ScatterGatherKernel.cu:409: operator(): block: [19,0,0], thread: [105,0,0] Assertion `idx_dim >= 0 && idx_dim < index_size && \"index out of bounds\"` failed.\n",
            "/pytorch/aten/src/ATen/native/cuda/ScatterGatherKernel.cu:409: operator(): block: [19,0,0], thread: [106,0,0] Assertion `idx_dim >= 0 && idx_dim < index_size && \"index out of bounds\"` failed.\n",
            "/pytorch/aten/src/ATen/native/cuda/ScatterGatherKernel.cu:409: operator(): block: [19,0,0], thread: [107,0,0] Assertion `idx_dim >= 0 && idx_dim < index_size && \"index out of bounds\"` failed.\n",
            "/pytorch/aten/src/ATen/native/cuda/ScatterGatherKernel.cu:409: operator(): block: [19,0,0], thread: [108,0,0] Assertion `idx_dim >= 0 && idx_dim < index_size && \"index out of bounds\"` failed.\n",
            "/pytorch/aten/src/ATen/native/cuda/ScatterGatherKernel.cu:409: operator(): block: [19,0,0], thread: [109,0,0] Assertion `idx_dim >= 0 && idx_dim < index_size && \"index out of bounds\"` failed.\n",
            "/pytorch/aten/src/ATen/native/cuda/ScatterGatherKernel.cu:409: operator(): block: [19,0,0], thread: [110,0,0] Assertion `idx_dim >= 0 && idx_dim < index_size && \"index out of bounds\"` failed.\n",
            "/pytorch/aten/src/ATen/native/cuda/ScatterGatherKernel.cu:409: operator(): block: [39,0,0], thread: [25,0,0] Assertion `idx_dim >= 0 && idx_dim < index_size && \"index out of bounds\"` failed.\n",
            "/pytorch/aten/src/ATen/native/cuda/ScatterGatherKernel.cu:409: operator(): block: [39,0,0], thread: [26,0,0] Assertion `idx_dim >= 0 && idx_dim < index_size && \"index out of bounds\"` failed.\n",
            "/pytorch/aten/src/ATen/native/cuda/ScatterGatherKernel.cu:409: operator(): block: [39,0,0], thread: [27,0,0] Assertion `idx_dim >= 0 && idx_dim < index_size && \"index out of bounds\"` failed.\n",
            "/pytorch/aten/src/ATen/native/cuda/ScatterGatherKernel.cu:409: operator(): block: [39,0,0], thread: [28,0,0] Assertion `idx_dim >= 0 && idx_dim < index_size && \"index out of bounds\"` failed.\n",
            "/pytorch/aten/src/ATen/native/cuda/ScatterGatherKernel.cu:409: operator(): block: [39,0,0], thread: [29,0,0] Assertion `idx_dim >= 0 && idx_dim < index_size && \"index out of bounds\"` failed.\n",
            "/pytorch/aten/src/ATen/native/cuda/ScatterGatherKernel.cu:409: operator(): block: [39,0,0], thread: [30,0,0] Assertion `idx_dim >= 0 && idx_dim < index_size && \"index out of bounds\"` failed.\n",
            "/pytorch/aten/src/ATen/native/cuda/ScatterGatherKernel.cu:409: operator(): block: [39,0,0], thread: [31,0,0] Assertion `idx_dim >= 0 && idx_dim < index_size && \"index out of bounds\"` failed.\n",
            "/pytorch/aten/src/ATen/native/cuda/ScatterGatherKernel.cu:409: operator(): block: [21,0,0], thread: [96,0,0] Assertion `idx_dim >= 0 && idx_dim < index_size && \"index out of bounds\"` failed.\n",
            "/pytorch/aten/src/ATen/native/cuda/ScatterGatherKernel.cu:409: operator(): block: [21,0,0], thread: [97,0,0] Assertion `idx_dim >= 0 && idx_dim < index_size && \"index out of bounds\"` failed.\n",
            "/pytorch/aten/src/ATen/native/cuda/ScatterGatherKernel.cu:409: operator(): block: [21,0,0], thread: [98,0,0] Assertion `idx_dim >= 0 && idx_dim < index_size && \"index out of bounds\"` failed.\n",
            "/pytorch/aten/src/ATen/native/cuda/ScatterGatherKernel.cu:409: operator(): block: [21,0,0], thread: [99,0,0] Assertion `idx_dim >= 0 && idx_dim < index_size && \"index out of bounds\"` failed.\n",
            "/pytorch/aten/src/ATen/native/cuda/ScatterGatherKernel.cu:409: operator(): block: [21,0,0], thread: [100,0,0] Assertion `idx_dim >= 0 && idx_dim < index_size && \"index out of bounds\"` failed.\n",
            "/pytorch/aten/src/ATen/native/cuda/ScatterGatherKernel.cu:409: operator(): block: [21,0,0], thread: [101,0,0] Assertion `idx_dim >= 0 && idx_dim < index_size && \"index out of bounds\"` failed.\n",
            "/pytorch/aten/src/ATen/native/cuda/ScatterGatherKernel.cu:409: operator(): block: [21,0,0], thread: [102,0,0] Assertion `idx_dim >= 0 && idx_dim < index_size && \"index out of bounds\"` failed.\n",
            "/pytorch/aten/src/ATen/native/cuda/ScatterGatherKernel.cu:409: operator(): block: [21,0,0], thread: [103,0,0] Assertion `idx_dim >= 0 && idx_dim < index_size && \"index out of bounds\"` failed.\n",
            "/pytorch/aten/src/ATen/native/cuda/ScatterGatherKernel.cu:409: operator(): block: [21,0,0], thread: [104,0,0] Assertion `idx_dim >= 0 && idx_dim < index_size && \"index out of bounds\"` failed.\n",
            "/pytorch/aten/src/ATen/native/cuda/ScatterGatherKernel.cu:409: operator(): block: [21,0,0], thread: [105,0,0] Assertion `idx_dim >= 0 && idx_dim < index_size && \"index out of bounds\"` failed.\n",
            "/pytorch/aten/src/ATen/native/cuda/ScatterGatherKernel.cu:409: operator(): block: [21,0,0], thread: [106,0,0] Assertion `idx_dim >= 0 && idx_dim < index_size && \"index out of bounds\"` failed.\n",
            "/pytorch/aten/src/ATen/native/cuda/ScatterGatherKernel.cu:409: operator(): block: [21,0,0], thread: [107,0,0] Assertion `idx_dim >= 0 && idx_dim < index_size && \"index out of bounds\"` failed.\n",
            "/pytorch/aten/src/ATen/native/cuda/ScatterGatherKernel.cu:409: operator(): block: [21,0,0], thread: [108,0,0] Assertion `idx_dim >= 0 && idx_dim < index_size && \"index out of bounds\"` failed.\n",
            "/pytorch/aten/src/ATen/native/cuda/ScatterGatherKernel.cu:409: operator(): block: [21,0,0], thread: [109,0,0] Assertion `idx_dim >= 0 && idx_dim < index_size && \"index out of bounds\"` failed.\n",
            "/pytorch/aten/src/ATen/native/cuda/ScatterGatherKernel.cu:409: operator(): block: [21,0,0], thread: [110,0,0] Assertion `idx_dim >= 0 && idx_dim < index_size && \"index out of bounds\"` failed.\n",
            "/pytorch/aten/src/ATen/native/cuda/ScatterGatherKernel.cu:409: operator(): block: [21,0,0], thread: [111,0,0] Assertion `idx_dim >= 0 && idx_dim < index_size && \"index out of bounds\"` failed.\n",
            "/pytorch/aten/src/ATen/native/cuda/ScatterGatherKernel.cu:409: operator(): block: [21,0,0], thread: [112,0,0] Assertion `idx_dim >= 0 && idx_dim < index_size && \"index out of bounds\"` failed.\n",
            "/pytorch/aten/src/ATen/native/cuda/ScatterGatherKernel.cu:409: operator(): block: [21,0,0], thread: [113,0,0] Assertion `idx_dim >= 0 && idx_dim < index_size && \"index out of bounds\"` failed.\n",
            "/pytorch/aten/src/ATen/native/cuda/ScatterGatherKernel.cu:409: operator(): block: [41,0,0], thread: [26,0,0] Assertion `idx_dim >= 0 && idx_dim < index_size && \"index out of bounds\"` failed.\n",
            "/pytorch/aten/src/ATen/native/cuda/ScatterGatherKernel.cu:409: operator(): block: [41,0,0], thread: [27,0,0] Assertion `idx_dim >= 0 && idx_dim < index_size && \"index out of bounds\"` failed.\n",
            "/pytorch/aten/src/ATen/native/cuda/ScatterGatherKernel.cu:409: operator(): block: [41,0,0], thread: [28,0,0] Assertion `idx_dim >= 0 && idx_dim < index_size && \"index out of bounds\"` failed.\n",
            "/pytorch/aten/src/ATen/native/cuda/ScatterGatherKernel.cu:409: operator(): block: [41,0,0], thread: [29,0,0] Assertion `idx_dim >= 0 && idx_dim < index_size && \"index out of bounds\"` failed.\n",
            "/pytorch/aten/src/ATen/native/cuda/ScatterGatherKernel.cu:409: operator(): block: [41,0,0], thread: [30,0,0] Assertion `idx_dim >= 0 && idx_dim < index_size && \"index out of bounds\"` failed.\n",
            "/pytorch/aten/src/ATen/native/cuda/ScatterGatherKernel.cu:409: operator(): block: [41,0,0], thread: [31,0,0] Assertion `idx_dim >= 0 && idx_dim < index_size && \"index out of bounds\"` failed.\n",
            "/pytorch/aten/src/ATen/native/cuda/ScatterGatherKernel.cu:409: operator(): block: [75,0,0], thread: [83,0,0] Assertion `idx_dim >= 0 && idx_dim < index_size && \"index out of bounds\"` failed.\n",
            "/pytorch/aten/src/ATen/native/cuda/ScatterGatherKernel.cu:409: operator(): block: [75,0,0], thread: [84,0,0] Assertion `idx_dim >= 0 && idx_dim < index_size && \"index out of bounds\"` failed.\n",
            "/pytorch/aten/src/ATen/native/cuda/ScatterGatherKernel.cu:409: operator(): block: [75,0,0], thread: [85,0,0] Assertion `idx_dim >= 0 && idx_dim < index_size && \"index out of bounds\"` failed.\n",
            "/pytorch/aten/src/ATen/native/cuda/ScatterGatherKernel.cu:409: operator(): block: [75,0,0], thread: [86,0,0] Assertion `idx_dim >= 0 && idx_dim < index_size && \"index out of bounds\"` failed.\n",
            "/pytorch/aten/src/ATen/native/cuda/ScatterGatherKernel.cu:409: operator(): block: [75,0,0], thread: [87,0,0] Assertion `idx_dim >= 0 && idx_dim < index_size && \"index out of bounds\"` failed.\n",
            "/pytorch/aten/src/ATen/native/cuda/ScatterGatherKernel.cu:409: operator(): block: [75,0,0], thread: [88,0,0] Assertion `idx_dim >= 0 && idx_dim < index_size && \"index out of bounds\"` failed.\n",
            "/pytorch/aten/src/ATen/native/cuda/ScatterGatherKernel.cu:409: operator(): block: [75,0,0], thread: [89,0,0] Assertion `idx_dim >= 0 && idx_dim < index_size && \"index out of bounds\"` failed.\n",
            "/pytorch/aten/src/ATen/native/cuda/ScatterGatherKernel.cu:409: operator(): block: [75,0,0], thread: [90,0,0] Assertion `idx_dim >= 0 && idx_dim < index_size && \"index out of bounds\"` failed.\n",
            "/pytorch/aten/src/ATen/native/cuda/ScatterGatherKernel.cu:409: operator(): block: [75,0,0], thread: [91,0,0] Assertion `idx_dim >= 0 && idx_dim < index_size && \"index out of bounds\"` failed.\n",
            "/pytorch/aten/src/ATen/native/cuda/ScatterGatherKernel.cu:409: operator(): block: [75,0,0], thread: [92,0,0] Assertion `idx_dim >= 0 && idx_dim < index_size && \"index out of bounds\"` failed.\n",
            "/pytorch/aten/src/ATen/native/cuda/ScatterGatherKernel.cu:409: operator(): block: [75,0,0], thread: [93,0,0] Assertion `idx_dim >= 0 && idx_dim < index_size && \"index out of bounds\"` failed.\n",
            "/pytorch/aten/src/ATen/native/cuda/ScatterGatherKernel.cu:409: operator(): block: [75,0,0], thread: [94,0,0] Assertion `idx_dim >= 0 && idx_dim < index_size && \"index out of bounds\"` failed.\n",
            "/pytorch/aten/src/ATen/native/cuda/ScatterGatherKernel.cu:409: operator(): block: [75,0,0], thread: [95,0,0] Assertion `idx_dim >= 0 && idx_dim < index_size && \"index out of bounds\"` failed.\n",
            "/pytorch/aten/src/ATen/native/cuda/ScatterGatherKernel.cu:409: operator(): block: [59,0,0], thread: [64,0,0] Assertion `idx_dim >= 0 && idx_dim < index_size && \"index out of bounds\"` failed.\n",
            "/pytorch/aten/src/ATen/native/cuda/ScatterGatherKernel.cu:409: operator(): block: [59,0,0], thread: [65,0,0] Assertion `idx_dim >= 0 && idx_dim < index_size && \"index out of bounds\"` failed.\n",
            "/pytorch/aten/src/ATen/native/cuda/ScatterGatherKernel.cu:409: operator(): block: [59,0,0], thread: [66,0,0] Assertion `idx_dim >= 0 && idx_dim < index_size && \"index out of bounds\"` failed.\n",
            "/pytorch/aten/src/ATen/native/cuda/ScatterGatherKernel.cu:409: operator(): block: [59,0,0], thread: [67,0,0] Assertion `idx_dim >= 0 && idx_dim < index_size && \"index out of bounds\"` failed.\n",
            "/pytorch/aten/src/ATen/native/cuda/ScatterGatherKernel.cu:409: operator(): block: [59,0,0], thread: [68,0,0] Assertion `idx_dim >= 0 && idx_dim < index_size && \"index out of bounds\"` failed.\n",
            "/pytorch/aten/src/ATen/native/cuda/ScatterGatherKernel.cu:409: operator(): block: [59,0,0], thread: [69,0,0] Assertion `idx_dim >= 0 && idx_dim < index_size && \"index out of bounds\"` failed.\n",
            "/pytorch/aten/src/ATen/native/cuda/ScatterGatherKernel.cu:409: operator(): block: [59,0,0], thread: [70,0,0] Assertion `idx_dim >= 0 && idx_dim < index_size && \"index out of bounds\"` failed.\n",
            "/pytorch/aten/src/ATen/native/cuda/ScatterGatherKernel.cu:409: operator(): block: [59,0,0], thread: [71,0,0] Assertion `idx_dim >= 0 && idx_dim < index_size && \"index out of bounds\"` failed.\n",
            "/pytorch/aten/src/ATen/native/cuda/ScatterGatherKernel.cu:409: operator(): block: [59,0,0], thread: [72,0,0] Assertion `idx_dim >= 0 && idx_dim < index_size && \"index out of bounds\"` failed.\n",
            "/pytorch/aten/src/ATen/native/cuda/ScatterGatherKernel.cu:409: operator(): block: [59,0,0], thread: [73,0,0] Assertion `idx_dim >= 0 && idx_dim < index_size && \"index out of bounds\"` failed.\n",
            "/pytorch/aten/src/ATen/native/cuda/ScatterGatherKernel.cu:409: operator(): block: [59,0,0], thread: [74,0,0] Assertion `idx_dim >= 0 && idx_dim < index_size && \"index out of bounds\"` failed.\n",
            "/pytorch/aten/src/ATen/native/cuda/ScatterGatherKernel.cu:409: operator(): block: [59,0,0], thread: [75,0,0] Assertion `idx_dim >= 0 && idx_dim < index_size && \"index out of bounds\"` failed.\n",
            "/pytorch/aten/src/ATen/native/cuda/ScatterGatherKernel.cu:409: operator(): block: [59,0,0], thread: [76,0,0] Assertion `idx_dim >= 0 && idx_dim < index_size && \"index out of bounds\"` failed.\n",
            "/pytorch/aten/src/ATen/native/cuda/ScatterGatherKernel.cu:409: operator(): block: [59,0,0], thread: [77,0,0] Assertion `idx_dim >= 0 && idx_dim < index_size && \"index out of bounds\"` failed.\n",
            "/pytorch/aten/src/ATen/native/cuda/ScatterGatherKernel.cu:409: operator(): block: [59,0,0], thread: [78,0,0] Assertion `idx_dim >= 0 && idx_dim < index_size && \"index out of bounds\"` failed.\n",
            "/pytorch/aten/src/ATen/native/cuda/ScatterGatherKernel.cu:409: operator(): block: [59,0,0], thread: [79,0,0] Assertion `idx_dim >= 0 && idx_dim < index_size && \"index out of bounds\"` failed.\n",
            "/pytorch/aten/src/ATen/native/cuda/ScatterGatherKernel.cu:409: operator(): block: [59,0,0], thread: [80,0,0] Assertion `idx_dim >= 0 && idx_dim < index_size && \"index out of bounds\"` failed.\n",
            "/pytorch/aten/src/ATen/native/cuda/ScatterGatherKernel.cu:409: operator(): block: [59,0,0], thread: [81,0,0] Assertion `idx_dim >= 0 && idx_dim < index_size && \"index out of bounds\"` failed.\n",
            "/pytorch/aten/src/ATen/native/cuda/ScatterGatherKernel.cu:409: operator(): block: [59,0,0], thread: [82,0,0] Assertion `idx_dim >= 0 && idx_dim < index_size && \"index out of bounds\"` failed.\n",
            "/pytorch/aten/src/ATen/native/cuda/ScatterGatherKernel.cu:409: operator(): block: [59,0,0], thread: [83,0,0] Assertion `idx_dim >= 0 && idx_dim < index_size && \"index out of bounds\"` failed.\n",
            "/pytorch/aten/src/ATen/native/cuda/ScatterGatherKernel.cu:409: operator(): block: [59,0,0], thread: [84,0,0] Assertion `idx_dim >= 0 && idx_dim < index_size && \"index out of bounds\"` failed.\n",
            "/pytorch/aten/src/ATen/native/cuda/ScatterGatherKernel.cu:409: operator(): block: [59,0,0], thread: [85,0,0] Assertion `idx_dim >= 0 && idx_dim < index_size && \"index out of bounds\"` failed.\n",
            "/pytorch/aten/src/ATen/native/cuda/ScatterGatherKernel.cu:409: operator(): block: [59,0,0], thread: [86,0,0] Assertion `idx_dim >= 0 && idx_dim < index_size && \"index out of bounds\"` failed.\n",
            "/pytorch/aten/src/ATen/native/cuda/ScatterGatherKernel.cu:409: operator(): block: [59,0,0], thread: [87,0,0] Assertion `idx_dim >= 0 && idx_dim < index_size && \"index out of bounds\"` failed.\n",
            "/pytorch/aten/src/ATen/native/cuda/ScatterGatherKernel.cu:409: operator(): block: [59,0,0], thread: [88,0,0] Assertion `idx_dim >= 0 && idx_dim < index_size && \"index out of bounds\"` failed.\n",
            "/pytorch/aten/src/ATen/native/cuda/ScatterGatherKernel.cu:409: operator(): block: [59,0,0], thread: [89,0,0] Assertion `idx_dim >= 0 && idx_dim < index_size && \"index out of bounds\"` failed.\n",
            "/pytorch/aten/src/ATen/native/cuda/ScatterGatherKernel.cu:409: operator(): block: [59,0,0], thread: [90,0,0] Assertion `idx_dim >= 0 && idx_dim < index_size && \"index out of bounds\"` failed.\n",
            "/pytorch/aten/src/ATen/native/cuda/ScatterGatherKernel.cu:409: operator(): block: [59,0,0], thread: [91,0,0] Assertion `idx_dim >= 0 && idx_dim < index_size && \"index out of bounds\"` failed.\n",
            "/pytorch/aten/src/ATen/native/cuda/ScatterGatherKernel.cu:409: operator(): block: [59,0,0], thread: [92,0,0] Assertion `idx_dim >= 0 && idx_dim < index_size && \"index out of bounds\"` failed.\n",
            "/pytorch/aten/src/ATen/native/cuda/ScatterGatherKernel.cu:409: operator(): block: [59,0,0], thread: [93,0,0] Assertion `idx_dim >= 0 && idx_dim < index_size && \"index out of bounds\"` failed.\n",
            "/pytorch/aten/src/ATen/native/cuda/ScatterGatherKernel.cu:409: operator(): block: [59,0,0], thread: [94,0,0] Assertion `idx_dim >= 0 && idx_dim < index_size && \"index out of bounds\"` failed.\n",
            "/pytorch/aten/src/ATen/native/cuda/ScatterGatherKernel.cu:409: operator(): block: [59,0,0], thread: [95,0,0] Assertion `idx_dim >= 0 && idx_dim < index_size && \"index out of bounds\"` failed.\n",
            "/pytorch/aten/src/ATen/native/cuda/ScatterGatherKernel.cu:409: operator(): block: [26,0,0], thread: [31,0,0] Assertion `idx_dim >= 0 && idx_dim < index_size && \"index out of bounds\"` failed.\n",
            "/pytorch/aten/src/ATen/native/cuda/ScatterGatherKernel.cu:409: operator(): block: [32,0,0], thread: [26,0,0] Assertion `idx_dim >= 0 && idx_dim < index_size && \"index out of bounds\"` failed.\n",
            "/pytorch/aten/src/ATen/native/cuda/ScatterGatherKernel.cu:409: operator(): block: [32,0,0], thread: [27,0,0] Assertion `idx_dim >= 0 && idx_dim < index_size && \"index out of bounds\"` failed.\n",
            "/pytorch/aten/src/ATen/native/cuda/ScatterGatherKernel.cu:409: operator(): block: [32,0,0], thread: [28,0,0] Assertion `idx_dim >= 0 && idx_dim < index_size && \"index out of bounds\"` failed.\n",
            "/pytorch/aten/src/ATen/native/cuda/ScatterGatherKernel.cu:409: operator(): block: [32,0,0], thread: [29,0,0] Assertion `idx_dim >= 0 && idx_dim < index_size && \"index out of bounds\"` failed.\n",
            "/pytorch/aten/src/ATen/native/cuda/ScatterGatherKernel.cu:409: operator(): block: [32,0,0], thread: [30,0,0] Assertion `idx_dim >= 0 && idx_dim < index_size && \"index out of bounds\"` failed.\n",
            "/pytorch/aten/src/ATen/native/cuda/ScatterGatherKernel.cu:409: operator(): block: [32,0,0], thread: [31,0,0] Assertion `idx_dim >= 0 && idx_dim < index_size && \"index out of bounds\"` failed.\n",
            "Traceback (most recent call last):\n",
            "  File \"/content/vton_project/training/train_vton.py\", line 105, in <module>\n",
            "    main()\n",
            "  File \"/content/vton_project/training/train_vton.py\", line 91, in main\n",
            "    train_loss = train_one_epoch(model, train_loader, optimizer, criterion, device, scaler)\n",
            "                 ^^^^^^^^^^^^^^^^^^^^^^^^^^^^^^^^^^^^^^^^^^^^^^^^^^^^^^^^^^^^^^^^^^^^^^^^^^\n",
            "  File \"/content/vton_project/training/train_vton.py\", line 31, in train_one_epoch\n",
            "    loss, loss_dict = criterion(outputs, targets)\n",
            "                      ^^^^^^^^^^^^^^^^^^^^^^^^^^^\n",
            "  File \"/usr/local/lib/python3.12/dist-packages/torch/nn/modules/module.py\", line 1773, in _wrapped_call_impl\n",
            "    return self._call_impl(*args, **kwargs)\n",
            "           ^^^^^^^^^^^^^^^^^^^^^^^^^^^^^^^^\n",
            "  File \"/usr/local/lib/python3.12/dist-packages/torch/nn/modules/module.py\", line 1784, in _call_impl\n",
            "    return forward_call(*args, **kwargs)\n",
            "           ^^^^^^^^^^^^^^^^^^^^^^^^^^^^^\n",
            "  File \"/content/vton_project/losses/vton_losses.py\", line 70, in forward\n",
            "    dice = self.dice_loss(inputs, targets)\n",
            "           ^^^^^^^^^^^^^^^^^^^^^^^^^^^^^^^\n",
            "  File \"/usr/local/lib/python3.12/dist-packages/torch/nn/modules/module.py\", line 1773, in _wrapped_call_impl\n",
            "    return self._call_impl(*args, **kwargs)\n",
            "           ^^^^^^^^^^^^^^^^^^^^^^^^^^^^^^^^\n",
            "  File \"/usr/local/lib/python3.12/dist-packages/torch/nn/modules/module.py\", line 1784, in _call_impl\n",
            "    return forward_call(*args, **kwargs)\n",
            "           ^^^^^^^^^^^^^^^^^^^^^^^^^^^^^\n",
            "  File \"/content/vton_project/losses/vton_losses.py\", line 22, in forward\n",
            "    intersection = (inputs * targets_onehot).sum(dim=(2,3))\n",
            "                   ^^^^^^^^^^^^^^^^^^^^^^^^^^^^^^^^^^^^^^^^\n",
            "torch.AcceleratorError: CUDA error: device-side assert triggered\n",
            "CUDA kernel errors might be asynchronously reported at some other API call, so the stacktrace below might be incorrect.\n",
            "For debugging consider passing CUDA_LAUNCH_BLOCKING=1\n",
            "Compile with `TORCH_USE_CUDA_DSA` to enable device-side assertions.\n",
            "\n"
          ]
        }
      ]
    },
    {
      "cell_type": "code",
      "source": [],
      "metadata": {
        "colab": {
          "base_uri": "https://localhost:8080/",
          "height": 124
        },
        "id": "A39EM_QYjWmw",
        "outputId": "157541e2-23dd-405b-c4d4-b30fa5803088"
      },
      "execution_count": 18,
      "outputs": [
        {
          "output_type": "error",
          "ename": "SyntaxError",
          "evalue": "leading zeros in decimal integer literals are not permitted; use an 0o prefix for octal integers (ipython-input-266447726.py, line 4)",
          "traceback": [
            "\u001b[0;36m  File \u001b[0;32m\"/tmp/ipython-input-266447726.py\"\u001b[0;36m, line \u001b[0;32m4\u001b[0m\n\u001b[0;31m    This project implements a Virtual Try-On (VTon) system using a combination of CNN and Transformer architectures with warping techniques. Developed as of September 09, 2025, it includes configurable settings, data loading, loss functions, model architectures, training scripts, and experiment runners.\u001b[0m\n\u001b[0m                                                                                                                                                                       ^\u001b[0m\n\u001b[0;31mSyntaxError\u001b[0m\u001b[0;31m:\u001b[0m leading zeros in decimal integer literals are not permitted; use an 0o prefix for octal integers\n"
          ]
        }
      ]
    },
    {
      "cell_type": "code",
      "source": [
        "!apt-get install git"
      ],
      "metadata": {
        "colab": {
          "base_uri": "https://localhost:8080/"
        },
        "id": "2s-BFqH1jy7H",
        "outputId": "9a479d5b-ba25-423c-cc89-9fa34c34b00b"
      },
      "execution_count": 19,
      "outputs": [
        {
          "output_type": "stream",
          "name": "stdout",
          "text": [
            "Reading package lists... Done\n",
            "Building dependency tree... Done\n",
            "Reading state information... Done\n",
            "git is already the newest version (1:2.34.1-1ubuntu1.15).\n",
            "0 upgraded, 0 newly installed, 0 to remove and 35 not upgraded.\n"
          ]
        }
      ]
    },
    {
      "cell_type": "code",
      "source": [
        "!git config --global user.name \"rishalfanda\"\n",
        "!git config --global user.email \"rizalalfanda@gmail.com\""
      ],
      "metadata": {
        "id": "8w8l5Aqfj4o-"
      },
      "execution_count": 20,
      "outputs": []
    },
    {
      "cell_type": "code",
      "source": [],
      "metadata": {
        "colab": {
          "base_uri": "https://localhost:8080/"
        },
        "id": "1_HNQJymj-2v",
        "outputId": "f792140c-b3c2-4b4e-aa25-f0028e4074fe"
      },
      "execution_count": 21,
      "outputs": [
        {
          "output_type": "stream",
          "name": "stdout",
          "text": [
            "\u001b[33mhint: Using 'master' as the name for the initial branch. This default branch name\u001b[m\n",
            "\u001b[33mhint: is subject to change. To configure the initial branch name to use in all\u001b[m\n",
            "\u001b[33mhint: of your new repositories, which will suppress this warning, call:\u001b[m\n",
            "\u001b[33mhint: \u001b[m\n",
            "\u001b[33mhint: \tgit config --global init.defaultBranch <name>\u001b[m\n",
            "\u001b[33mhint: \u001b[m\n",
            "\u001b[33mhint: Names commonly chosen instead of 'master' are 'main', 'trunk' and\u001b[m\n",
            "\u001b[33mhint: 'development'. The just-created branch can be renamed via this command:\u001b[m\n",
            "\u001b[33mhint: \u001b[m\n",
            "\u001b[33mhint: \tgit branch -m <name>\u001b[m\n",
            "Initialized empty Git repository in /content/.git/\n"
          ]
        }
      ]
    }
  ]
}